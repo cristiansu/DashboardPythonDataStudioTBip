{
 "cells": [
  {
   "cell_type": "code",
   "execution_count": 49,
   "id": "058ed43c",
   "metadata": {},
   "outputs": [],
   "source": [
    "import pandas as pd\n",
    "import numpy as np"
   ]
  },
  {
   "cell_type": "code",
   "execution_count": 50,
   "id": "07d4b746",
   "metadata": {},
   "outputs": [],
   "source": [
    "archivos=[('CargaAltoEstandar',13,'Si','Si','Si','Si','Si','Si'),\n",
    "          ('CargaEstandarNormal',10,'Si','Si','Si','Si','No','No'),\n",
    "          ('CargaPuntosBip',9,'No','Si','Si','No','No','No'),\n",
    "          ('CargaRetail',9,'No','Si','Si','Si','No','No')]"
   ]
  },
  {
   "cell_type": "code",
   "execution_count": 51,
   "id": "b67773c1",
   "metadata": {},
   "outputs": [],
   "source": [
    "servicios=['VentaTarjetas','CargaTarjetas','ConsultaSaldos','ActivaciónCargaRemota','ReemplazoTarjeta',\n",
    "           'RecupSaldoTarjetaDañada']"
   ]
  },
  {
   "cell_type": "code",
   "execution_count": 52,
   "id": "073df95c",
   "metadata": {},
   "outputs": [],
   "source": [
    "def crearTabla(lista):\n",
    "    df_res=pd.DataFrame()\n",
    "    for i in range(len(lista)):\n",
    "        temp_df=pd.read_excel(lista[i][0]+'.xlsx', skiprows=lista[i][1])\n",
    "        temp_df['TipoLocal']=lista[i][0]\n",
    "        temp_df['VentaTarjetas']=lista[i][2]\n",
    "        temp_df['CargaTarjetas']=lista[i][3]\n",
    "        temp_df['ConsultaSaldos']=lista[i][4]\n",
    "        temp_df['ActivaciónCargaRemota']=lista[i][5]\n",
    "        temp_df['ReemplazoTarjeta']=lista[i][6]\n",
    "        temp_df['RecupSaldoTarjetaDañada']=lista[i][7]\n",
    "        df_res=pd.concat([temp_df,df_res], ignore_index=True)\n",
    "    return df_res"
   ]
  },
  {
   "cell_type": "code",
   "execution_count": 53,
   "id": "cce995c4",
   "metadata": {},
   "outputs": [],
   "source": [
    "tarjeta_bip=crearTabla(archivos)"
   ]
  },
  {
   "cell_type": "code",
   "execution_count": 54,
   "id": "2535de20",
   "metadata": {},
   "outputs": [
    {
     "data": {
      "text/html": [
       "<div>\n",
       "<style scoped>\n",
       "    .dataframe tbody tr th:only-of-type {\n",
       "        vertical-align: middle;\n",
       "    }\n",
       "\n",
       "    .dataframe tbody tr th {\n",
       "        vertical-align: top;\n",
       "    }\n",
       "\n",
       "    .dataframe thead th {\n",
       "        text-align: right;\n",
       "    }\n",
       "</style>\n",
       "<table border=\"1\" class=\"dataframe\">\n",
       "  <thead>\n",
       "    <tr style=\"text-align: right;\">\n",
       "      <th></th>\n",
       "      <th>CODIGO</th>\n",
       "      <th>ENTIDAD</th>\n",
       "      <th>NOMBRE FANTASIA</th>\n",
       "      <th>DIRECCION</th>\n",
       "      <th>COMUNA</th>\n",
       "      <th>HORARIO REFERENCIAL</th>\n",
       "      <th>ESTE</th>\n",
       "      <th>NORTE</th>\n",
       "      <th>LONGITUD</th>\n",
       "      <th>LATITUD</th>\n",
       "      <th>TipoLocal</th>\n",
       "      <th>VentaTarjetas</th>\n",
       "      <th>CargaTarjetas</th>\n",
       "      <th>ConsultaSaldos</th>\n",
       "      <th>ActivaciónCargaRemota</th>\n",
       "      <th>ReemplazoTarjeta</th>\n",
       "      <th>RecupSaldoTarjetaDañada</th>\n",
       "      <th>HORARIO</th>\n",
       "    </tr>\n",
       "  </thead>\n",
       "  <tbody>\n",
       "    <tr>\n",
       "      <th>0</th>\n",
       "      <td>102</td>\n",
       "      <td>UNIMARC</td>\n",
       "      <td>UNIMARC JUAN ANTONIO RIOS</td>\n",
       "      <td>SALOMON SACK 351</td>\n",
       "      <td>INDEPENDENCIA</td>\n",
       "      <td>Lun-Dom 09:00 a 20:00</td>\n",
       "      <td>344653</td>\n",
       "      <td>6300937</td>\n",
       "      <td>-70.670806</td>\n",
       "      <td>-33.419567</td>\n",
       "      <td>CargaRetail</td>\n",
       "      <td>No</td>\n",
       "      <td>Si</td>\n",
       "      <td>Si</td>\n",
       "      <td>Si</td>\n",
       "      <td>No</td>\n",
       "      <td>No</td>\n",
       "      <td>NaN</td>\n",
       "    </tr>\n",
       "    <tr>\n",
       "      <th>1</th>\n",
       "      <td>103</td>\n",
       "      <td>UNIMARC</td>\n",
       "      <td>UNIMARC DORSAL</td>\n",
       "      <td>AV. EL GUANACO 3100</td>\n",
       "      <td>CONCHALI</td>\n",
       "      <td>Lun-Dom 09:00 a 20:00</td>\n",
       "      <td>345812</td>\n",
       "      <td>6303726</td>\n",
       "      <td>-70.657868</td>\n",
       "      <td>-33.394592</td>\n",
       "      <td>CargaRetail</td>\n",
       "      <td>No</td>\n",
       "      <td>Si</td>\n",
       "      <td>Si</td>\n",
       "      <td>Si</td>\n",
       "      <td>No</td>\n",
       "      <td>No</td>\n",
       "      <td>NaN</td>\n",
       "    </tr>\n",
       "    <tr>\n",
       "      <th>2</th>\n",
       "      <td>104</td>\n",
       "      <td>UNIMARC</td>\n",
       "      <td>UNIMARC LO OVALLE</td>\n",
       "      <td>GRAN AVENIDA JOSE MIGUEL CARRERA 6555</td>\n",
       "      <td>LA CISTERNA</td>\n",
       "      <td>Lun-Dom 09:00 a 20:00</td>\n",
       "      <td>345864</td>\n",
       "      <td>6290169</td>\n",
       "      <td>-70.659635</td>\n",
       "      <td>-33.516832</td>\n",
       "      <td>CargaRetail</td>\n",
       "      <td>No</td>\n",
       "      <td>Si</td>\n",
       "      <td>Si</td>\n",
       "      <td>Si</td>\n",
       "      <td>No</td>\n",
       "      <td>No</td>\n",
       "      <td>NaN</td>\n",
       "    </tr>\n",
       "    <tr>\n",
       "      <th>3</th>\n",
       "      <td>105</td>\n",
       "      <td>UNIMARC</td>\n",
       "      <td>UNIMARC VICUÑA PARAD 19</td>\n",
       "      <td>AV. VICUÑA MACKENNA 9090</td>\n",
       "      <td>LA FLORIDA</td>\n",
       "      <td>Lun-Dom 09:00 a 20:00</td>\n",
       "      <td>352240</td>\n",
       "      <td>6287757</td>\n",
       "      <td>-70.591410</td>\n",
       "      <td>-33.539480</td>\n",
       "      <td>CargaRetail</td>\n",
       "      <td>No</td>\n",
       "      <td>Si</td>\n",
       "      <td>Si</td>\n",
       "      <td>Si</td>\n",
       "      <td>No</td>\n",
       "      <td>No</td>\n",
       "      <td>NaN</td>\n",
       "    </tr>\n",
       "    <tr>\n",
       "      <th>4</th>\n",
       "      <td>106</td>\n",
       "      <td>UNIMARC</td>\n",
       "      <td>UNIMARC ROJAS MAGALLANES</td>\n",
       "      <td>AV. ROJAS MAGALLANES 3638</td>\n",
       "      <td>LA FLORIDA</td>\n",
       "      <td>Lun-Dom 09:00 a 20:00</td>\n",
       "      <td>355705</td>\n",
       "      <td>6288235</td>\n",
       "      <td>-70.554780</td>\n",
       "      <td>-33.535927</td>\n",
       "      <td>CargaRetail</td>\n",
       "      <td>No</td>\n",
       "      <td>Si</td>\n",
       "      <td>Si</td>\n",
       "      <td>Si</td>\n",
       "      <td>No</td>\n",
       "      <td>No</td>\n",
       "      <td>NaN</td>\n",
       "    </tr>\n",
       "  </tbody>\n",
       "</table>\n",
       "</div>"
      ],
      "text/plain": [
       "   CODIGO  ENTIDAD            NOMBRE FANTASIA  \\\n",
       "0     102  UNIMARC  UNIMARC JUAN ANTONIO RIOS   \n",
       "1     103  UNIMARC             UNIMARC DORSAL   \n",
       "2     104  UNIMARC          UNIMARC LO OVALLE   \n",
       "3     105  UNIMARC    UNIMARC VICUÑA PARAD 19   \n",
       "4     106  UNIMARC   UNIMARC ROJAS MAGALLANES   \n",
       "\n",
       "                               DIRECCION         COMUNA  \\\n",
       "0                       SALOMON SACK 351  INDEPENDENCIA   \n",
       "1                    AV. EL GUANACO 3100       CONCHALI   \n",
       "2  GRAN AVENIDA JOSE MIGUEL CARRERA 6555    LA CISTERNA   \n",
       "3               AV. VICUÑA MACKENNA 9090     LA FLORIDA   \n",
       "4              AV. ROJAS MAGALLANES 3638     LA FLORIDA   \n",
       "\n",
       "     HORARIO REFERENCIAL    ESTE    NORTE   LONGITUD    LATITUD    TipoLocal  \\\n",
       "0  Lun-Dom 09:00 a 20:00  344653  6300937 -70.670806 -33.419567  CargaRetail   \n",
       "1  Lun-Dom 09:00 a 20:00  345812  6303726 -70.657868 -33.394592  CargaRetail   \n",
       "2  Lun-Dom 09:00 a 20:00  345864  6290169 -70.659635 -33.516832  CargaRetail   \n",
       "3  Lun-Dom 09:00 a 20:00  352240  6287757 -70.591410 -33.539480  CargaRetail   \n",
       "4  Lun-Dom 09:00 a 20:00  355705  6288235 -70.554780 -33.535927  CargaRetail   \n",
       "\n",
       "  VentaTarjetas CargaTarjetas ConsultaSaldos ActivaciónCargaRemota  \\\n",
       "0            No            Si             Si                    Si   \n",
       "1            No            Si             Si                    Si   \n",
       "2            No            Si             Si                    Si   \n",
       "3            No            Si             Si                    Si   \n",
       "4            No            Si             Si                    Si   \n",
       "\n",
       "  ReemplazoTarjeta RecupSaldoTarjetaDañada HORARIO  \n",
       "0               No                      No     NaN  \n",
       "1               No                      No     NaN  \n",
       "2               No                      No     NaN  \n",
       "3               No                      No     NaN  \n",
       "4               No                      No     NaN  "
      ]
     },
     "execution_count": 54,
     "metadata": {},
     "output_type": "execute_result"
    }
   ],
   "source": [
    "tarjeta_bip.head()"
   ]
  },
  {
   "cell_type": "code",
   "execution_count": 55,
   "id": "bb1dfc14",
   "metadata": {},
   "outputs": [
    {
     "data": {
      "text/plain": [
       "(1902, 18)"
      ]
     },
     "execution_count": 55,
     "metadata": {},
     "output_type": "execute_result"
    }
   ],
   "source": [
    "tarjeta_bip.shape"
   ]
  },
  {
   "cell_type": "code",
   "execution_count": 56,
   "id": "911318b2",
   "metadata": {},
   "outputs": [
    {
     "data": {
      "text/plain": [
       "CODIGO                        0\n",
       "ENTIDAD                       0\n",
       "NOMBRE FANTASIA              36\n",
       "DIRECCION                     0\n",
       "COMUNA                        0\n",
       "HORARIO REFERENCIAL        1685\n",
       "ESTE                          0\n",
       "NORTE                         0\n",
       "LONGITUD                      0\n",
       "LATITUD                       0\n",
       "TipoLocal                     0\n",
       "VentaTarjetas                 0\n",
       "CargaTarjetas                 0\n",
       "ConsultaSaldos                0\n",
       "ActivaciónCargaRemota         0\n",
       "ReemplazoTarjeta              0\n",
       "RecupSaldoTarjetaDañada       0\n",
       "HORARIO                    1866\n",
       "dtype: int64"
      ]
     },
     "execution_count": 56,
     "metadata": {},
     "output_type": "execute_result"
    }
   ],
   "source": [
    "tarjeta_bip.isnull().sum()"
   ]
  },
  {
   "cell_type": "code",
   "execution_count": 57,
   "id": "1258e723",
   "metadata": {},
   "outputs": [
    {
     "data": {
      "text/plain": [
       "array(['CargaRetail', 'CargaPuntosBip', 'CargaEstandarNormal',\n",
       "       'CargaAltoEstandar'], dtype=object)"
      ]
     },
     "execution_count": 57,
     "metadata": {},
     "output_type": "execute_result"
    }
   ],
   "source": [
    "tarjeta_bip['TipoLocal'].unique()"
   ]
  },
  {
   "cell_type": "code",
   "execution_count": 58,
   "id": "efdadcb5",
   "metadata": {},
   "outputs": [],
   "source": [
    "tarjeta_bip=tarjeta_bip.fillna('No informado')"
   ]
  },
  {
   "cell_type": "code",
   "execution_count": 59,
   "id": "130b634a",
   "metadata": {},
   "outputs": [
    {
     "data": {
      "text/plain": [
       "CODIGO                     0\n",
       "ENTIDAD                    0\n",
       "NOMBRE FANTASIA            0\n",
       "DIRECCION                  0\n",
       "COMUNA                     0\n",
       "HORARIO REFERENCIAL        0\n",
       "ESTE                       0\n",
       "NORTE                      0\n",
       "LONGITUD                   0\n",
       "LATITUD                    0\n",
       "TipoLocal                  0\n",
       "VentaTarjetas              0\n",
       "CargaTarjetas              0\n",
       "ConsultaSaldos             0\n",
       "ActivaciónCargaRemota      0\n",
       "ReemplazoTarjeta           0\n",
       "RecupSaldoTarjetaDañada    0\n",
       "HORARIO                    0\n",
       "dtype: int64"
      ]
     },
     "execution_count": 59,
     "metadata": {},
     "output_type": "execute_result"
    }
   ],
   "source": [
    "tarjeta_bip.isnull().sum()"
   ]
  },
  {
   "cell_type": "code",
   "execution_count": 60,
   "id": "89c55c37",
   "metadata": {},
   "outputs": [],
   "source": [
    "tarjeta_bip['Indice']=tarjeta_bip.index"
   ]
  },
  {
   "cell_type": "code",
   "execution_count": 61,
   "id": "d9c3c714",
   "metadata": {},
   "outputs": [],
   "source": [
    "tarjeta_bip.to_excel('tarjeta_bip.xlsx')"
   ]
  },
  {
   "cell_type": "code",
   "execution_count": 62,
   "id": "fe8082f7",
   "metadata": {},
   "outputs": [],
   "source": [
    "import gspread"
   ]
  },
  {
   "cell_type": "code",
   "execution_count": 63,
   "id": "520e1fc2",
   "metadata": {},
   "outputs": [],
   "source": [
    "gc = gspread.service_account(filename='credenciales.json')"
   ]
  },
  {
   "cell_type": "code",
   "execution_count": 64,
   "id": "a4c68065",
   "metadata": {},
   "outputs": [],
   "source": [
    "clave_sheet='1DH71TIGu1JULP5twApN3BHbG7_gmLiGtRxz6Yj07N3I'\n",
    "sh = gc.open_by_key(clave_sheet)"
   ]
  },
  {
   "cell_type": "code",
   "execution_count": 65,
   "id": "69f2783d",
   "metadata": {},
   "outputs": [],
   "source": [
    "worksheet = sh.get_worksheet(0)"
   ]
  },
  {
   "cell_type": "code",
   "execution_count": 66,
   "id": "722ad407",
   "metadata": {},
   "outputs": [
    {
     "data": {
      "text/plain": [
       "{'spreadsheetId': '1DH71TIGu1JULP5twApN3BHbG7_gmLiGtRxz6Yj07N3I',\n",
       " 'clearedRange': \"'Hoja 1'!A1:Z1903\"}"
      ]
     },
     "execution_count": 66,
     "metadata": {},
     "output_type": "execute_result"
    }
   ],
   "source": [
    "worksheet.clear()"
   ]
  },
  {
   "cell_type": "code",
   "execution_count": 67,
   "id": "eb197c0f",
   "metadata": {},
   "outputs": [
    {
     "data": {
      "text/plain": [
       "{'spreadsheetId': '1DH71TIGu1JULP5twApN3BHbG7_gmLiGtRxz6Yj07N3I',\n",
       " 'updatedRange': \"'Hoja 1'!A1:S1903\",\n",
       " 'updatedRows': 1903,\n",
       " 'updatedColumns': 19,\n",
       " 'updatedCells': 36157}"
      ]
     },
     "execution_count": 67,
     "metadata": {},
     "output_type": "execute_result"
    }
   ],
   "source": [
    "worksheet.update([tarjeta_bip.columns.values.tolist()] + tarjeta_bip.values.tolist())"
   ]
  },
  {
   "cell_type": "code",
   "execution_count": null,
   "id": "c18dcc1c",
   "metadata": {},
   "outputs": [],
   "source": []
  }
 ],
 "metadata": {
  "kernelspec": {
   "display_name": "Python 3 (ipykernel)",
   "language": "python",
   "name": "python3"
  },
  "language_info": {
   "codemirror_mode": {
    "name": "ipython",
    "version": 3
   },
   "file_extension": ".py",
   "mimetype": "text/x-python",
   "name": "python",
   "nbconvert_exporter": "python",
   "pygments_lexer": "ipython3",
   "version": "3.8.12"
  }
 },
 "nbformat": 4,
 "nbformat_minor": 5
}
